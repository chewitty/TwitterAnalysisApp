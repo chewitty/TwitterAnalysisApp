{
 "cells": [
  {
   "cell_type": "code",
   "execution_count": 1,
   "id": "97000953-9835-4c23-98d6-b9b7028c1a72",
   "metadata": {
    "execution": {
     "iopub.execute_input": "2022-03-13T16:34:16.341524Z",
     "iopub.status.busy": "2022-03-13T16:34:16.341524Z",
     "iopub.status.idle": "2022-03-13T16:34:16.608299Z",
     "shell.execute_reply": "2022-03-13T16:34:16.608299Z",
     "shell.execute_reply.started": "2022-03-13T16:34:16.341524Z"
    }
   },
   "outputs": [],
   "source": [
    "#This program fetches all the tweets from my profile.\n",
    "# TO use Tweepy you have to install it by command \"pip install tweepy\"\n",
    "\n",
    "##############################################\n",
    "#####      2.2 Accessing Data       #########\n",
    "#############################################\n",
    "import tweepy\n",
    "from tweepy import OAuthHandler\n",
    "import config\n",
    "import json\n",
    "\n",
    "auth = OAuthHandler(config.consumer_key, config.consumer_secret)\n",
    "auth.set_access_token(config.access_token, config.access_secret)\n",
    "api = tweepy.API(auth)\n"
   ]
  },
  {
   "cell_type": "code",
   "execution_count": 2,
   "id": "7dc1ffcb-e28d-42f9-8b45-6cb185ade248",
   "metadata": {
    "execution": {
     "iopub.execute_input": "2022-03-13T16:35:20.596351Z",
     "iopub.status.busy": "2022-03-13T16:35:20.596351Z",
     "iopub.status.idle": "2022-03-13T16:38:26.332745Z",
     "shell.execute_reply": "2022-03-13T16:38:26.332745Z",
     "shell.execute_reply.started": "2022-03-13T16:35:20.596351Z"
    }
   },
   "outputs": [],
   "source": [
    "# this will store user timeline tweet data in json format.\n",
    "\n",
    "##############################################\n",
    "#####      2.3 Storing Data         #########\n",
    "#############################################\n",
    "\n",
    "from api_access import api;\n",
    "import tweepy;\n",
    "import json;\n",
    "\n",
    "def process_or_store(tweet):\n",
    "    with open('data/my_tweets.json','a') as mt:\n",
    "        mt.write(json.dumps(tweet)+'\\n')\n",
    "\n",
    "for tweet in tweepy.Cursor(api.user_timeline).items():\n",
    "    process_or_store(tweet._json)\n",
    "    #we can print tweets to console too.\n",
    "    #print(tweet);\n"
   ]
  },
  {
   "cell_type": "code",
   "execution_count": null,
   "id": "80eb9dfd-f261-461f-a662-42f0c10c31a1",
   "metadata": {},
   "outputs": [],
   "source": []
  }
 ],
 "metadata": {
  "kernelspec": {
   "display_name": "Python 3 (ipykernel)",
   "language": "python",
   "name": "python3"
  },
  "language_info": {
   "codemirror_mode": {
    "name": "ipython",
    "version": 3
   },
   "file_extension": ".py",
   "mimetype": "text/x-python",
   "name": "python",
   "nbconvert_exporter": "python",
   "pygments_lexer": "ipython3",
   "version": "3.8.12"
  }
 },
 "nbformat": 4,
 "nbformat_minor": 5
}
